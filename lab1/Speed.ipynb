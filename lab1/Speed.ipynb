{
 "cells": [
  {
   "cell_type": "code",
   "execution_count": 2,
   "id": "57eb766a",
   "metadata": {},
   "outputs": [],
   "source": [
    "import numpy as np\n",
    "import matplotlib.pyplot as plt"
   ]
  },
  {
   "cell_type": "code",
   "execution_count": 3,
   "id": "ac0190af",
   "metadata": {},
   "outputs": [],
   "source": [
    "data = np.genfromtxt(\"time.txt\", delimiter=',') "
   ]
  },
  {
   "cell_type": "code",
   "execution_count": 4,
   "id": "0d2adc86",
   "metadata": {},
   "outputs": [
    {
     "name": "stdout",
     "output_type": "stream",
     "text": [
      "[4.0000e+00 2.0050e-03 1.2268e-02 1.2138e-02 1.2518e-02        nan]\n"
     ]
    }
   ],
   "source": [
    "print(data)"
   ]
  },
  {
   "cell_type": "code",
   "execution_count": 6,
   "id": "35fe37f7",
   "metadata": {},
   "outputs": [],
   "source": [
    "size = int(data[0])\n",
    "times = data[1:(size + 1)]"
   ]
  },
  {
   "cell_type": "code",
   "execution_count": 7,
   "id": "8c2d32fe",
   "metadata": {},
   "outputs": [],
   "source": [
    "time = max(times)"
   ]
  },
  {
   "cell_type": "code",
   "execution_count": 8,
   "id": "5d4c94fc",
   "metadata": {},
   "outputs": [
    {
     "name": "stdout",
     "output_type": "stream",
     "text": [
      "0.012518\n"
     ]
    }
   ],
   "source": [
    "print(time)"
   ]
  }
 ],
 "metadata": {
  "kernelspec": {
   "display_name": "Python 3.9.5 64-bit",
   "language": "python",
   "name": "python395jvsc74a57bd0e0c39c2aa61344fb27ff6fb4f3a259e590cdda2eaea03f0e509c852643cc86c0"
  },
  "language_info": {
   "codemirror_mode": {
    "name": "ipython",
    "version": 3
   },
   "file_extension": ".py",
   "mimetype": "text/x-python",
   "name": "python",
   "nbconvert_exporter": "python",
   "pygments_lexer": "ipython3",
   "version": "3.9.5"
  }
 },
 "nbformat": 4,
 "nbformat_minor": 5
}
